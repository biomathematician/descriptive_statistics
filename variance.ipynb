{
 "cells": [
  {
   "cell_type": "markdown",
   "id": "437e2a14",
   "metadata": {},
   "source": [
    "# Variance\n",
    "\n",
    "Variance is a statistical measure that quantifies the spread or dispersion of a set of data points around their mean or average. It provides a numerical value that describes the degree to which individual data points in a dataset differ from the mean"
   ]
  },
  {
   "cell_type": "markdown",
   "id": "ee36c9a4",
   "metadata": {},
   "source": [
    "$$\\sigma^2 = \\frac{1}{n} \\sum_{i=1}^{n} (x_i - \\bar{x})^2$$"
   ]
  },
  {
   "cell_type": "markdown",
   "id": "5f2f2428",
   "metadata": {},
   "source": [
    "# Dataset"
   ]
  },
  {
   "cell_type": "code",
   "execution_count": 1,
   "id": "b0d0ae7e",
   "metadata": {},
   "outputs": [],
   "source": [
    "# Importing module\n",
    "import numpy as np\n",
    "\n",
    "# Creating synthetic data (1000 samples) that follows normal distribution with mean:0 and std:4\n",
    "data = np.random.normal(0, 4, 1000).round(0).astype(int)"
   ]
  },
  {
   "cell_type": "markdown",
   "id": "e47d4e4c",
   "metadata": {},
   "source": [
    "# Calculate Variance using User Defined Function"
   ]
  },
  {
   "cell_type": "code",
   "execution_count": 2,
   "id": "dbcd8d34",
   "metadata": {},
   "outputs": [],
   "source": [
    "# User defined function for calculating variance\n",
    "def variance(data):\n",
    "    n = len(data) # No of observations\n",
    "    mean = np.mean(data) # Mean of all the observations\n",
    "    diffs = [(i-mean)**2 for i in data] # Square difference of mean and each observations\n",
    "    sum_diffs = sum(diffs) # Sum of square difference\n",
    "    var = sum_diffs/n # Variance\n",
    "    return var"
   ]
  },
  {
   "cell_type": "code",
   "execution_count": 3,
   "id": "c219050b",
   "metadata": {},
   "outputs": [
    {
     "data": {
      "text/plain": [
       "16.689483999999975"
      ]
     },
     "execution_count": 3,
     "metadata": {},
     "output_type": "execute_result"
    }
   ],
   "source": [
    "# Calculate variance\n",
    "var = variance(data)\n",
    "\n",
    "var"
   ]
  },
  {
   "cell_type": "markdown",
   "id": "dc3a90fc",
   "metadata": {},
   "source": [
    "# Calculate Variance using Numpy's Var Function"
   ]
  },
  {
   "cell_type": "code",
   "execution_count": 4,
   "id": "23bf1aba",
   "metadata": {},
   "outputs": [
    {
     "data": {
      "text/plain": [
       "16.689483999999997"
      ]
     },
     "execution_count": 4,
     "metadata": {},
     "output_type": "execute_result"
    }
   ],
   "source": [
    "# Importing numpy\n",
    "import numpy as np\n",
    "\n",
    "# Calculate variance\n",
    "var = np.var(data)\n",
    "\n",
    "var"
   ]
  },
  {
   "cell_type": "markdown",
   "id": "8fd6032f",
   "metadata": {},
   "source": [
    "# Comparing Data using Variance"
   ]
  },
  {
   "cell_type": "code",
   "execution_count": 5,
   "id": "b146fb3e",
   "metadata": {},
   "outputs": [
    {
     "data": {
      "text/plain": [
       "12500.0"
      ]
     },
     "execution_count": 5,
     "metadata": {},
     "output_type": "execute_result"
    }
   ],
   "source": [
    "# Temp data1\n",
    "temp_data1 = [100, 200, 300, 400]\n",
    "\n",
    "# Calculate variance for temp_data1\n",
    "temp_var1 = np.var(temp_data1)\n",
    "\n",
    "temp_var1"
   ]
  },
  {
   "cell_type": "code",
   "execution_count": 6,
   "id": "79fb6bc3",
   "metadata": {},
   "outputs": [
    {
     "data": {
      "text/plain": [
       "112500.0"
      ]
     },
     "execution_count": 6,
     "metadata": {},
     "output_type": "execute_result"
    }
   ],
   "source": [
    "# Temp data2\n",
    "temp_data2 = [900, 1200, 1500, 1800]\n",
    "\n",
    "# Calculate variance for temp data2\n",
    "temp_var2 = np.var(temp_data2)\n",
    "\n",
    "temp_var2"
   ]
  },
  {
   "cell_type": "markdown",
   "id": "0e578d5d",
   "metadata": {},
   "source": [
    "# Limitations\n",
    "- Less intuitive\n",
    "- Sensitive to outliers"
   ]
  },
  {
   "cell_type": "code",
   "execution_count": 7,
   "id": "12da7373",
   "metadata": {},
   "outputs": [
    {
     "data": {
      "text/plain": [
       "19.143328200271256"
      ]
     },
     "execution_count": 7,
     "metadata": {},
     "output_type": "execute_result"
    }
   ],
   "source": [
    "# New data with outlier \n",
    "new_data = np.array(list(data)+[50])\n",
    "\n",
    "var = np.var(new_data)\n",
    "\n",
    "var"
   ]
  },
  {
   "cell_type": "markdown",
   "id": "bd9f2832",
   "metadata": {},
   "source": [
    "# Standard Deviation\n",
    "\n",
    "Standard deviation is often preferred in practical applications due to its ease of interpretation and direct relationship to the original units of the data."
   ]
  },
  {
   "cell_type": "markdown",
   "id": "bd8273ad",
   "metadata": {},
   "source": [
    "$$ \\sigma = \\sqrt{\\frac{1}{n} \\sum_{i=1}^{n} (x_i - \\bar{x})^2 } $$\n",
    "\n",
    "OR \n",
    "\n",
    "$$ \\sigma = \\sqrt{\\sigma^2} $$"
   ]
  },
  {
   "cell_type": "code",
   "execution_count": 8,
   "id": "02da2f9f",
   "metadata": {},
   "outputs": [
    {
     "data": {
      "text/plain": [
       "4.085276490030998"
      ]
     },
     "execution_count": 8,
     "metadata": {},
     "output_type": "execute_result"
    }
   ],
   "source": [
    "# Importing module\n",
    "import numpy as np\n",
    "from math import sqrt\n",
    "\n",
    "# Calculating variance\n",
    "var = np.var(data)\n",
    "\n",
    "# Calculating std\n",
    "std = sqrt(var)\n",
    "\n",
    "std"
   ]
  }
 ],
 "metadata": {
  "kernelspec": {
   "display_name": "Python 3 (ipykernel)",
   "language": "python",
   "name": "python3"
  },
  "language_info": {
   "codemirror_mode": {
    "name": "ipython",
    "version": 3
   },
   "file_extension": ".py",
   "mimetype": "text/x-python",
   "name": "python",
   "nbconvert_exporter": "python",
   "pygments_lexer": "ipython3",
   "version": "3.10.10"
  }
 },
 "nbformat": 4,
 "nbformat_minor": 5
}
