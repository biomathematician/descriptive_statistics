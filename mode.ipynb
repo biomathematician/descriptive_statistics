{
 "cells": [
  {
   "cell_type": "markdown",
   "id": "e9fcc7d5",
   "metadata": {},
   "source": [
    "# Mode\n",
    "\n",
    "Mode is a measure of central tendency, along with the mean and median. It represents the most frequently occurring value in a dataset. It can be applied to all types of numerical data, including categorical, discrete, and continuous variables."
   ]
  },
  {
   "cell_type": "markdown",
   "id": "0920db95",
   "metadata": {},
   "source": [
    "# Dataset"
   ]
  },
  {
   "cell_type": "code",
   "execution_count": 1,
   "id": "e8f6a2c0",
   "metadata": {},
   "outputs": [],
   "source": [
    "# Blood glucose values | uni modal data\n",
    "data_uni = [124, 110, 120, 109, 99, 90, 89, 95, 126, 122, 120]\n",
    "\n",
    "# Blood glucose values | bi modal data\n",
    "data_bi = [124, 110, 120, 109, 109, 99, 90, 89, 95, 126, 122, 120]\n",
    "\n",
    "# Blood glucose values | tri modal data\n",
    "data_tri = [124, 110, 120, 109, 109, 99, 90, 89, 95, 126, 126, 122, 120]\n",
    "\n",
    "# Blood glucose values | tri modal data\n",
    "data_multi = [124, 110, 120, 109, 109, 99, 90, 89, 95, 126, 126, 122, 120, 129, 129]"
   ]
  },
  {
   "cell_type": "markdown",
   "id": "01d048d5",
   "metadata": {},
   "source": [
    "# Calculate Mode using User Defined Function"
   ]
  },
  {
   "cell_type": "code",
   "execution_count": 2,
   "id": "c2073377",
   "metadata": {},
   "outputs": [],
   "source": [
    "from collections import Counter\n",
    "\n",
    "def find_mode(data):\n",
    "    \n",
    "    data = sorted(data) # Sort the data in increasing order\n",
    "    \n",
    "    count_dict = Counter(data) # Create a count dict\n",
    "    \n",
    "    max_count = max(count_dict.values()) # max value count\n",
    "    \n",
    "    mode = [value for value, count in count_dict.items() if count == max_count] # extract all \n",
    "    return mode"
   ]
  },
  {
   "cell_type": "code",
   "execution_count": 3,
   "id": "bc6762c4",
   "metadata": {},
   "outputs": [
    {
     "name": "stdout",
     "output_type": "stream",
     "text": [
      "Mode = [120]\n"
     ]
    }
   ],
   "source": [
    "# Calculate mode for uni mode data\n",
    "uni_mode = find_mode(data_uni)\n",
    "\n",
    "print(f\"Mode = {uni_mode}\")"
   ]
  },
  {
   "cell_type": "code",
   "execution_count": 4,
   "id": "726b5138",
   "metadata": {},
   "outputs": [
    {
     "name": "stdout",
     "output_type": "stream",
     "text": [
      "Mode = [109, 120]\n"
     ]
    }
   ],
   "source": [
    "# Calculate mode for bi mode data\n",
    "bi_mode = find_mode(data_bi)\n",
    "\n",
    "print(f\"Mode = {bi_mode}\")"
   ]
  },
  {
   "cell_type": "code",
   "execution_count": 5,
   "id": "87ce3a72",
   "metadata": {},
   "outputs": [
    {
     "name": "stdout",
     "output_type": "stream",
     "text": [
      "Mode = [109, 120, 126]\n"
     ]
    }
   ],
   "source": [
    "# Calculate mode for tri mode data\n",
    "tri_mode = find_mode(data_tri)\n",
    "\n",
    "print(f\"Mode = {tri_mode}\")"
   ]
  },
  {
   "cell_type": "code",
   "execution_count": 6,
   "id": "9b54971f",
   "metadata": {},
   "outputs": [
    {
     "name": "stdout",
     "output_type": "stream",
     "text": [
      "Mode = [109, 120, 126, 129]\n"
     ]
    }
   ],
   "source": [
    "# Calculate mode for multi mode data\n",
    "multi_mode = find_mode(data_multi)\n",
    "\n",
    "print(f\"Mode = {multi_mode}\")"
   ]
  },
  {
   "cell_type": "markdown",
   "id": "e2175551",
   "metadata": {},
   "source": [
    "# Calculate Mode using Scipy\n",
    "\n",
    "If there is more than one such value, only one is returned. "
   ]
  },
  {
   "cell_type": "code",
   "execution_count": 7,
   "id": "fee43282",
   "metadata": {},
   "outputs": [
    {
     "name": "stdout",
     "output_type": "stream",
     "text": [
      "Requirement already satisfied: scipy in /home/rajan/miniconda3/lib/python3.10/site-packages (1.11.1)\r\n",
      "Requirement already satisfied: numpy<1.28.0,>=1.21.6 in /home/rajan/miniconda3/lib/python3.10/site-packages (from scipy) (1.24.2)\r\n"
     ]
    }
   ],
   "source": [
    "# Installing scipy\n",
    "! pip install scipy"
   ]
  },
  {
   "cell_type": "code",
   "execution_count": 8,
   "id": "1a7ed4b0",
   "metadata": {},
   "outputs": [
    {
     "name": "stdout",
     "output_type": "stream",
     "text": [
      "ModeResult(mode=120, count=2)\n"
     ]
    }
   ],
   "source": [
    "# Importing module\n",
    "from scipy.stats import mode\n",
    "\n",
    "# Calculating mode\n",
    "uni_mode = mode(data_uni)\n",
    "\n",
    "print(uni_mode)"
   ]
  },
  {
   "cell_type": "code",
   "execution_count": 9,
   "id": "f04494dd",
   "metadata": {},
   "outputs": [
    {
     "name": "stdout",
     "output_type": "stream",
     "text": [
      "ModeResult(mode=109, count=2)\n"
     ]
    }
   ],
   "source": [
    "# Importing module\n",
    "from scipy.stats import mode\n",
    "\n",
    "# Calculating mode\n",
    "bi_mode = mode(data_bi)\n",
    "\n",
    "print(bi_mode)"
   ]
  },
  {
   "cell_type": "markdown",
   "id": "21b520a7",
   "metadata": {},
   "source": [
    "# Limitations\n",
    "\n",
    "- Mode doesn't include all the data points.\n",
    "- It is not very informative as the data can have one, more, or no mode at all."
   ]
  }
 ],
 "metadata": {
  "kernelspec": {
   "display_name": "Python 3 (ipykernel)",
   "language": "python",
   "name": "python3"
  },
  "language_info": {
   "codemirror_mode": {
    "name": "ipython",
    "version": 3
   },
   "file_extension": ".py",
   "mimetype": "text/x-python",
   "name": "python",
   "nbconvert_exporter": "python",
   "pygments_lexer": "ipython3",
   "version": "3.10.10"
  }
 },
 "nbformat": 4,
 "nbformat_minor": 5
}
