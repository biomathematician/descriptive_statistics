{
 "cells": [
  {
   "cell_type": "markdown",
   "id": "57c6c5df",
   "metadata": {},
   "source": [
    "# Median\n",
    "\n",
    "Median is a measure used to describe the central tendency of a dataset. Median is 50th percentile of given data. It is calculated by organizing data in increasing order and then selecting the central value\n",
    "\n",
    "- if N (no of observations) is an odd value then it will be the ((N+1)/2)th observation\n",
    "- else it is calculated as average of [ (N/2)th and ((N/2)+1)th ] observations."
   ]
  },
  {
   "cell_type": "markdown",
   "id": "f5ecdf10",
   "metadata": {},
   "source": [
    "# Numpy\n",
    "\n",
    "NumPy is a fundamental package for scientific computing in Python. It provides support for arrays, mathematical functions to operate on these arrays, and tools for working with them. NumPy's primary data structure is the ndarray (n-dimensional array), which allows for efficient manipulation of large datasets."
   ]
  },
  {
   "cell_type": "code",
   "execution_count": 1,
   "id": "1ed6dd3d",
   "metadata": {},
   "outputs": [
    {
     "name": "stdout",
     "output_type": "stream",
     "text": [
      "Requirement already satisfied: numpy in /home/rajan/miniconda3/lib/python3.10/site-packages (1.24.2)\r\n"
     ]
    }
   ],
   "source": [
    "# Installing numpy\n",
    "! pip install numpy"
   ]
  },
  {
   "cell_type": "markdown",
   "id": "05894ab5",
   "metadata": {},
   "source": [
    "# Dataset"
   ]
  },
  {
   "cell_type": "code",
   "execution_count": 2,
   "id": "2c5d60f8",
   "metadata": {},
   "outputs": [],
   "source": [
    "# Blood glucose value\n",
    "data = [124, 110, 120, 109, 99, 90, 89, 95, 126, 122, 120]"
   ]
  },
  {
   "cell_type": "markdown",
   "id": "9858d3bf",
   "metadata": {},
   "source": [
    "# Indexing in Python\n",
    "\n",
    "Python uses zero-based indexing, meaning the index of the first element is 0, the second element is 1, and so on."
   ]
  },
  {
   "cell_type": "code",
   "execution_count": 3,
   "id": "251d0509",
   "metadata": {},
   "outputs": [
    {
     "name": "stdout",
     "output_type": "stream",
     "text": [
      "Data:\t[124, 110, 120, 109, 99, 90, 89, 95, 126, 122, 120]\n",
      "Index:\t[0, 1, 2, 3, 4, 5, 6, 7, 8, 9, 10]\n"
     ]
    }
   ],
   "source": [
    "print(f\"Data:\\t{data}\")\n",
    "print(f\"Index:\\t{[i for i in range(len(data))]}\")"
   ]
  },
  {
   "cell_type": "markdown",
   "id": "962decd6",
   "metadata": {},
   "source": [
    "So in  python :\n",
    "- (N+1)/2 will be equal to int(N-1)/2\n",
    "- (N/2)  will be equal to (N/2)+1\n",
    "- (N/2)+1 will be equal to N/2"
   ]
  },
  {
   "cell_type": "markdown",
   "id": "05d7a0bb",
   "metadata": {},
   "source": [
    "# Calculate Median using User Defined Function"
   ]
  },
  {
   "cell_type": "code",
   "execution_count": 4,
   "id": "68c682a7",
   "metadata": {},
   "outputs": [],
   "source": [
    "# Function to find median\n",
    "def find_median(data):\n",
    "    \n",
    "    data = sorted(data) # sort the data\n",
    "    \n",
    "    n = len(data) # number of samples\n",
    "    \n",
    "    if n%2 == 0: # for even number of samples\n",
    "        median = (data[int((n/2)-1)]+data[int(n/2)])/2\n",
    "        \n",
    "    elif n%2 == 1: # for odd number of samples\n",
    "        median = data[int((n-1)/2)]\n",
    "        \n",
    "    return median"
   ]
  },
  {
   "cell_type": "code",
   "execution_count": 5,
   "id": "12515670",
   "metadata": {},
   "outputs": [
    {
     "name": "stdout",
     "output_type": "stream",
     "text": [
      "Median = 110\n"
     ]
    }
   ],
   "source": [
    "median = find_median(data)\n",
    "\n",
    "print(f\"Median = {median}\")"
   ]
  },
  {
   "cell_type": "markdown",
   "id": "c14d4138",
   "metadata": {},
   "source": [
    "# Calculate Median using Numpy"
   ]
  },
  {
   "cell_type": "code",
   "execution_count": 6,
   "id": "dffe58a9",
   "metadata": {},
   "outputs": [
    {
     "name": "stdout",
     "output_type": "stream",
     "text": [
      "Median = 110.0\n"
     ]
    }
   ],
   "source": [
    "# Importing module\n",
    "import numpy as np\n",
    "\n",
    "# Calculating median using numpy's median function\n",
    "median = np.median(data)\n",
    "\n",
    "print(f\"Median = {median}\")"
   ]
  },
  {
   "cell_type": "code",
   "execution_count": 7,
   "id": "81bb461e",
   "metadata": {},
   "outputs": [
    {
     "name": "stdout",
     "output_type": "stream",
     "text": [
      "Median = 110.0\n"
     ]
    }
   ],
   "source": [
    "# Importing module\n",
    "import numpy as np\n",
    "\n",
    "# Calculating median using numpy's percentile function\n",
    "median = np.percentile(data, 50)\n",
    "\n",
    "print(f\"Median = {median}\")"
   ]
  },
  {
   "cell_type": "markdown",
   "id": "0bf88473",
   "metadata": {},
   "source": [
    "# Effect of Outliers"
   ]
  },
  {
   "cell_type": "code",
   "execution_count": 8,
   "id": "08befc9b",
   "metadata": {},
   "outputs": [
    {
     "name": "stdout",
     "output_type": "stream",
     "text": [
      "Mean without outlier = 109.45; Mean with outlier = 121.17\n",
      "Median without outlier = 110.0; Median with outlier = 115.0\n"
     ]
    }
   ],
   "source": [
    "# Blood glucose value\n",
    "data_ = [124, 110, 120, 109, 99, 90, 89, 95, 126, 122, 120, 250]\n",
    "\n",
    "print(f\"Mean without outlier = {np.mean(data).round(2)}; Mean with outlier = {np.mean(data_).round(2)}\")\n",
    "print(f\"Median without outlier = {np.median(data).round(2)}; Median with outlier = {np.median(data_).round(2)}\")"
   ]
  },
  {
   "cell_type": "markdown",
   "id": "2064a716",
   "metadata": {},
   "source": [
    "# Limitations\n",
    "\n",
    "The median is a valuable statistical measure with several advantages, but it also has some limitations:\n",
    "\n",
    "1. Sensitive to outliers\n",
    "2. Doesn't consider all the data points\n",
    "3. Doesn't provide insights about the spread of the data"
   ]
  }
 ],
 "metadata": {
  "kernelspec": {
   "display_name": "Python 3 (ipykernel)",
   "language": "python",
   "name": "python3"
  },
  "language_info": {
   "codemirror_mode": {
    "name": "ipython",
    "version": 3
   },
   "file_extension": ".py",
   "mimetype": "text/x-python",
   "name": "python",
   "nbconvert_exporter": "python",
   "pygments_lexer": "ipython3",
   "version": "3.10.10"
  }
 },
 "nbformat": 4,
 "nbformat_minor": 5
}
