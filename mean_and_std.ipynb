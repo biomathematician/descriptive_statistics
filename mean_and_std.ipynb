{
 "cells": [
  {
   "cell_type": "markdown",
   "id": "f94a5f31",
   "metadata": {},
   "source": [
    "# Mean\n",
    "\n",
    "Mean is one of the most fundamental measures of central tendency in statistics. It provides a single numerical value that represents the typical or average value of a set of numbers."
   ]
  },
  {
   "cell_type": "markdown",
   "id": "602a50a0",
   "metadata": {},
   "source": [
    "$$ \\bar{x} = \\frac{1}{n} \\sum_{i=1}^{n} x_i $$"
   ]
  },
  {
   "cell_type": "markdown",
   "id": "0201417e",
   "metadata": {},
   "source": [
    "# Standard Deviation\n",
    "\n",
    "Standard deviation is a measure of the spread of a dataset. It quantifies the amount of variation or uncertainty in the data points. A low standard deviation indicates that the data points tend to be close to the mean, while a high standard deviation suggests that the data points are spread out over a wider range of values."
   ]
  },
  {
   "cell_type": "markdown",
   "id": "a93ea598",
   "metadata": {},
   "source": [
    "$$ \\sigma = \\sqrt{\\frac{1}{n} \\sum_{i=1}^{n} (x_i - \\bar{x})^2 } $$"
   ]
  },
  {
   "cell_type": "markdown",
   "id": "26c7bd43",
   "metadata": {},
   "source": [
    "# Dataset"
   ]
  },
  {
   "cell_type": "code",
   "execution_count": 1,
   "id": "785a4416",
   "metadata": {},
   "outputs": [],
   "source": [
    "# Blood glucose value\n",
    "data = [124, 110, 120, 109, 99, 90, 89, 95, 126, 122, 120]"
   ]
  },
  {
   "cell_type": "markdown",
   "id": "3c8b5044",
   "metadata": {},
   "source": [
    "# Numpy\n",
    "\n",
    "NumPy is a fundamental package for scientific computing in Python. It provides support for arrays, mathematical functions to operate on these arrays, and tools for working with them. NumPy's primary data structure is the ndarray (n-dimensional array), which allows for efficient manipulation of large datasets."
   ]
  },
  {
   "cell_type": "code",
   "execution_count": 2,
   "id": "9b3a49fe",
   "metadata": {},
   "outputs": [
    {
     "name": "stdout",
     "output_type": "stream",
     "text": [
      "Requirement already satisfied: numpy in /home/rajan/miniconda3/lib/python3.10/site-packages (1.24.2)\r\n"
     ]
    }
   ],
   "source": [
    "# Installing numpy\n",
    "! pip install numpy"
   ]
  },
  {
   "cell_type": "markdown",
   "id": "ae9158ce",
   "metadata": {},
   "source": [
    "# Calculate Mean using Numpy"
   ]
  },
  {
   "cell_type": "code",
   "execution_count": 3,
   "id": "0d5bad9c",
   "metadata": {},
   "outputs": [
    {
     "name": "stdout",
     "output_type": "stream",
     "text": [
      "Mean = 109.45\n"
     ]
    }
   ],
   "source": [
    "# Importing module\n",
    "import numpy as np\n",
    "\n",
    "# Calculating mean\n",
    "mean = np.mean(data)\n",
    "\n",
    "print(f\"Mean = {mean.round(2)}\")"
   ]
  },
  {
   "cell_type": "markdown",
   "id": "a13bfab6",
   "metadata": {},
   "source": [
    "# Calculate Standard Deviation using Numpy"
   ]
  },
  {
   "cell_type": "code",
   "execution_count": 4,
   "id": "180fd190",
   "metadata": {},
   "outputs": [
    {
     "name": "stdout",
     "output_type": "stream",
     "text": [
      "Standard deviation = 13.42\n"
     ]
    }
   ],
   "source": [
    "# Importing module\n",
    "import numpy as np\n",
    "\n",
    "# Calculating standard deviation\n",
    "std = np.std(data)\n",
    "\n",
    "print(f\"Standard deviation = {std.round(2)}\")"
   ]
  },
  {
   "cell_type": "markdown",
   "id": "6e66912c",
   "metadata": {},
   "source": [
    "# Data Standardization using Mean and Standard Deviation\n",
    "\n",
    "Standardization, also known as z-score normalization, is a preprocessing technique used in machine learning to transform features so that they have a mean of 0 and a standard deviation of 1. This process centers the data around 0 and scales it, making it easier for machine learning algorithms to interpret and process the features."
   ]
  },
  {
   "cell_type": "markdown",
   "id": "b3338b69",
   "metadata": {},
   "source": [
    "$$\\ x_{\\text{standardized}} = \\frac{x - \\bar{x}}{\\sigma} \\$$"
   ]
  },
  {
   "cell_type": "code",
   "execution_count": 5,
   "id": "4a93ce1d",
   "metadata": {},
   "outputs": [
    {
     "name": "stdout",
     "output_type": "stream",
     "text": [
      "Data after standardization: [ 1.08  0.04  0.79 -0.03 -0.78 -1.45 -1.52 -1.08  1.23  0.93  0.79]\n",
      "Mean of standardized data = 0.0\n",
      "Standard deviation of standardized data = 1.0\n"
     ]
    }
   ],
   "source": [
    "# Importing module\n",
    "import numpy as np\n",
    "\n",
    "# Calculating mean\n",
    "mean = np.mean(data)\n",
    "\n",
    "# Calculating standard deviation\n",
    "std = np.std(data)\n",
    "\n",
    "# Standardization\n",
    "data_stand = (data - mean)/std\n",
    "\n",
    "print(f\"Data after standardization: {data_stand.round(2)}\")\n",
    "print(f\"Mean of standardized data = {np.mean(data_stand).round(2)}\")\n",
    "print(f\"Standard deviation of standardized data = {np.std(data_stand).round(2)}\")"
   ]
  },
  {
   "cell_type": "markdown",
   "id": "f39a5965",
   "metadata": {},
   "source": [
    "# Limitations\n",
    "While the mean and standard deviation are widely used statistical measures. It has some limitations as well.\n",
    "\n",
    "1. Sensitive to outliers\n",
    "2. Not robust for skewed data"
   ]
  },
  {
   "cell_type": "code",
   "execution_count": 6,
   "id": "3e3f6664",
   "metadata": {},
   "outputs": [
    {
     "name": "stdout",
     "output_type": "stream",
     "text": [
      "Mean = 121.17\n",
      "Standard deviation = 40.91\n"
     ]
    }
   ],
   "source": [
    "# Data with an outlier\n",
    "data = [124, 110, 120, 109, 99, 90, 89, 95, 126, 122, 120, 250] # 250 is the outlier\n",
    "\n",
    "\n",
    "# Calculating mean\n",
    "mean = np.mean(data)\n",
    "\n",
    "# Calculating standard deviation\n",
    "std = np.std(data)\n",
    "\n",
    "print(f\"Mean = {mean.round(2)}\\nStandard deviation = {std.round(2)}\")"
   ]
  }
 ],
 "metadata": {
  "kernelspec": {
   "display_name": "Python 3 (ipykernel)",
   "language": "python",
   "name": "python3"
  },
  "language_info": {
   "codemirror_mode": {
    "name": "ipython",
    "version": 3
   },
   "file_extension": ".py",
   "mimetype": "text/x-python",
   "name": "python",
   "nbconvert_exporter": "python",
   "pygments_lexer": "ipython3",
   "version": "3.10.10"
  }
 },
 "nbformat": 4,
 "nbformat_minor": 5
}
