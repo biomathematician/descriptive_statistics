{
 "cells": [
  {
   "cell_type": "markdown",
   "id": "80416b47",
   "metadata": {},
   "source": [
    "# Dataset"
   ]
  },
  {
   "cell_type": "code",
   "execution_count": 1,
   "id": "0ef0efd6",
   "metadata": {},
   "outputs": [],
   "source": [
    "# Importing module\n",
    "import numpy as np\n",
    "\n",
    "# Create normal distribution data with 100 sample (mean:0, std:3)\n",
    "data = np.random.normal(0, 3, 1000).round(0).astype(int)"
   ]
  },
  {
   "cell_type": "markdown",
   "id": "2ecbef58",
   "metadata": {},
   "source": [
    "# Range\n",
    "\n",
    "Range in statistics refers to the difference between the maximum and minimum values in the data. It is a measure of the variability or dispersion of the data."
   ]
  },
  {
   "cell_type": "markdown",
   "id": "bce7295a",
   "metadata": {},
   "source": [
    "# Calculate Range"
   ]
  },
  {
   "cell_type": "code",
   "execution_count": 2,
   "id": "2d3e5f85",
   "metadata": {},
   "outputs": [
    {
     "name": "stdout",
     "output_type": "stream",
     "text": [
      "Range = 19\n"
     ]
    }
   ],
   "source": [
    "# Calculate range\n",
    "range_data = max(data) - min(data)\n",
    "\n",
    "print(f\"Range = {range_data}\")"
   ]
  },
  {
   "cell_type": "code",
   "execution_count": 3,
   "id": "cccfdf0b",
   "metadata": {},
   "outputs": [
    {
     "data": {
      "image/png": "[encoded data removed]",
      "text/plain": [
       "<Figure size 640x480 with 1 Axes>"
      ]
     },
     "metadata": {},
     "output_type": "display_data"
    }
   ],
   "source": [
    "# Plot showing data distribution\n",
    "import matplotlib.pyplot as plt\n",
    "from collections import Counter\n",
    "plot_data = Counter(data)\n",
    "plt.bar(plot_data.keys(), plot_data.values())\n",
    "plt.plot([max(data), min(data)], [-2, -2], color=\"red\")\n",
    "plt.scatter([max(data), min(data)], [-1, -1], color=\"red\")\n",
    "plt.xlabel(\"Values\")\n",
    "plt.ylabel(\"Count\")\n",
    "plt.show()"
   ]
  },
  {
   "cell_type": "markdown",
   "id": "88932a6e",
   "metadata": {},
   "source": [
    "# Limitations\n",
    "- Range is easy to calculate and infer but it is highly susceptible to outliers."
   ]
  },
  {
   "cell_type": "code",
   "execution_count": 4,
   "id": "e87a1e3d",
   "metadata": {},
   "outputs": [
    {
     "name": "stdout",
     "output_type": "stream",
     "text": [
      "Range = 110\n"
     ]
    }
   ],
   "source": [
    "# Adding an outlier to the data (100)\n",
    "data_temp = np.array(list(data)+[100])\n",
    "\n",
    "# Range of the modified data\n",
    "data_range = max(data_temp) - min(data_temp)\n",
    "\n",
    "print(f\"Range = {data_range}\")"
   ]
  },
  {
   "cell_type": "markdown",
   "id": "e2a0f3c6",
   "metadata": {},
   "source": [
    "# Inter-quartile range (IQR)\n",
    "Interquartile range is calculated by subtracting thw 25th percentile from the 75th percentile of the data.\n",
    "```\n",
    "k = percentile\n",
    "n = no of observations\n",
    "\n",
    "if nk/100 is an integer the kth percentile is average of (nk/100) and (nk/100 + 1). \n",
    "else kth percentile is (j+1) where j is largest integer which is less than nk/100.\n",
    "```"
   ]
  },
  {
   "cell_type": "markdown",
   "id": "8c232a1b",
   "metadata": {},
   "source": [
    "# Calculate IQR using User Defined Function"
   ]
  },
  {
   "cell_type": "code",
   "execution_count": 5,
   "id": "b8325028",
   "metadata": {},
   "outputs": [],
   "source": [
    "# User defined function for calculating \n",
    "def percentile(data, k):\n",
    "    data = sorted(data) # sort the data\n",
    "    n = len(data) # calculate n\n",
    "    if ((n*k)/100).is_integer() == True: # if nk/100 is an integer\n",
    "        val = (data[int((n*k)/100)-1]+data[int(((n*k)/100)+1)-1])/2\n",
    "        return val\n",
    "    else: # if nk/100 is not an integer\n",
    "        val = data[int((n*k)/100)-1]\n",
    "        return val"
   ]
  },
  {
   "cell_type": "code",
   "execution_count": 6,
   "id": "24658c0c",
   "metadata": {},
   "outputs": [
    {
     "name": "stdout",
     "output_type": "stream",
     "text": [
      "Inter-quartile range = 4.0\n"
     ]
    }
   ],
   "source": [
    "# Calculate first and second quartile\n",
    "Q3 = percentile(data, 75)\n",
    "Q1 = percentile(data, 25)\n",
    "\n",
    "# Calculate IQR\n",
    "IQR = Q3 - Q1\n",
    "\n",
    "print(f\"Inter-quartile range = {IQR}\")"
   ]
  },
  {
   "cell_type": "markdown",
   "id": "231f1be5",
   "metadata": {},
   "source": [
    "# Calculate IQR using Numpy"
   ]
  },
  {
   "cell_type": "code",
   "execution_count": 7,
   "id": "453ad32e",
   "metadata": {},
   "outputs": [
    {
     "name": "stdout",
     "output_type": "stream",
     "text": [
      "Inter-quartile range = 4.0\n"
     ]
    }
   ],
   "source": [
    "# Importing module\n",
    "import numpy as np\n",
    "\n",
    "# Calculating first and third quartile\n",
    "Q3 = np.percentile(data, 75)\n",
    "Q1 = np.percentile(data, 25)\n",
    "\n",
    "# Calculate IQR\n",
    "IQR = Q3 - Q1\n",
    "\n",
    "print(f\"Inter-quartile range = {IQR}\")"
   ]
  },
  {
   "cell_type": "code",
   "execution_count": 8,
   "id": "9d785e1c",
   "metadata": {},
   "outputs": [
    {
     "data": {
      "image/png": "[encoded data removed]",
      "text/plain": [
       "<Figure size 640x480 with 1 Axes>"
      ]
     },
     "metadata": {},
     "output_type": "display_data"
    }
   ],
   "source": [
    "# Plot showing data distribution\n",
    "import matplotlib.pyplot as plt\n",
    "from collections import Counter\n",
    "plot_data = Counter(data)\n",
    "plt.bar(plot_data.keys(), plot_data.values())\n",
    "plt.plot([Q1-0.5, Q1-0.5], [0, 150], color=\"red\")\n",
    "plt.plot([Q3-0.5, Q3-0.5], [0, 150], color=\"red\")\n",
    "plt.show()"
   ]
  },
  {
   "cell_type": "code",
   "execution_count": 9,
   "id": "b38409e9",
   "metadata": {},
   "outputs": [
    {
     "name": "stdout",
     "output_type": "stream",
     "text": [
      "Inter-quartile range = 4.0\n"
     ]
    }
   ],
   "source": [
    "# Importing module\n",
    "import numpy as np\n",
    "\n",
    "# Adding an outlier\n",
    "data_temp = np.array(list(data)+[100])\n",
    "\n",
    "# Calculating first and third percentile\n",
    "Q3 = np.percentile(data_temp, 75)\n",
    "Q1 = np.percentile(data_temp, 25)\n",
    "\n",
    "# Calculate IQR for the modified data\n",
    "IQR = Q3 - Q1\n",
    "\n",
    "print(f\"Inter-quartile range = {IQR}\")"
   ]
  },
  {
   "cell_type": "markdown",
   "id": "a5fe1e9c",
   "metadata": {},
   "source": [
    "# Limitations\n",
    "- It only represents the middle 50% of the data\n",
    "- It cannot be translated into a specific unit of measurement"
   ]
  }
 ],
 "metadata": {
  "kernelspec": {
   "display_name": "Python 3 (ipykernel)",
   "language": "python",
   "name": "python3"
  },
  "language_info": {
   "codemirror_mode": {
    "name": "ipython",
    "version": 3
   },
   "file_extension": ".py",
   "mimetype": "text/x-python",
   "name": "python",
   "nbconvert_exporter": "python",
   "pygments_lexer": "ipython3",
   "version": "3.10.10"
  }
 },
 "nbformat": 4,
 "nbformat_minor": 5
}
